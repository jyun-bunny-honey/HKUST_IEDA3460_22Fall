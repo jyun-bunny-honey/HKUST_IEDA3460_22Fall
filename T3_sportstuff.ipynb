{
 "cells": [
  {
   "cell_type": "markdown",
   "id": "71df77d5",
   "metadata": {},
   "source": [
    "## T3 - Manage Growth at SportStuff.com"
   ]
  },
  {
   "cell_type": "code",
   "execution_count": 1,
   "id": "b61f61ef",
   "metadata": {},
   "outputs": [],
   "source": [
    "import numpy as np\n",
    "import pandas as pd\n",
    "from pulp import *"
   ]
  },
  {
   "cell_type": "code",
   "execution_count": 2,
   "id": "977126e2",
   "metadata": {},
   "outputs": [],
   "source": [
    "# Specify the solver to be GLPK\n",
    "#path_to = r'C:\\Users\\jzhangfv\\Miniconda3\\envs\\env_tutorial\\Library\\bin\\glpsol.exe'\n",
    "path_to = r'D:\\Miniconda\\envs\\env_tutorial\\Library\\bin\\glpsol.exe'\n",
    "solver = GLPK_CMD(path=path_to)"
   ]
  },
  {
   "cell_type": "markdown",
   "id": "449caa33",
   "metadata": {},
   "source": [
    "### Demonstration:"
   ]
  },
  {
   "cell_type": "markdown",
   "id": "bd1e40f6",
   "metadata": {},
   "source": [
    "#### 1. Setup parameters"
   ]
  },
  {
   "cell_type": "code",
   "execution_count": 3,
   "id": "93ee0664",
   "metadata": {},
   "outputs": [
    {
     "name": "stdout",
     "output_type": "stream",
     "text": [
      "Demand matrix is:\n",
      "Year 2007: [320, 200, 160, 220, 350, 175]\n",
      "Year 2008: [576.0, 360.0, 288.0, 396.0, 630.0, 315.0]\n",
      "Year 2009: [1036.8000000000002, 648.0, 518.4000000000001, 712.8000000000001, 1134.0, 567.0]\n",
      "Year 2010: [1866.2400000000002, 1166.4, 933.1200000000001, 1283.0400000000002, 2041.2000000000003, 1020.6000000000001]\n"
     ]
    }
   ],
   "source": [
    "# Calculate demands for next three years: yearly increasing rate 0.8\n",
    "demand = [[320, 200, 160, 220, 350, 175]]\n",
    "\n",
    "for i in range(3):\n",
    "    demand.append([val*(1+0.8)**(i+1) for val in demand[0]])\n",
    "\n",
    "print(\"Demand matrix is:\")\n",
    "for i in range(4):\n",
    "    print(f\"Year {i+2007}: {demand[i]}\")"
   ]
  },
  {
   "cell_type": "code",
   "execution_count": 4,
   "id": "c2cbde1a",
   "metadata": {},
   "outputs": [
    {
     "name": "stdout",
     "output_type": "stream",
     "text": [
      "Net transportation cost matrix is:\n",
      "Seattle: [-0.25, -0.125, 0.125, 0.25, 0.5, 0.625]\n",
      "Denver: [-0.125, -0.125, -0.125, 0.0, 0.25, 0.375]\n",
      "St. Louis: [0.125, 0.125, -0.125, -0.125, 0.0, 0.125]\n",
      "Atlanta: [0.25, 0.25, 0.0, -0.125, 0.0, -0.125]\n",
      "Philadelphia: [0.375, 0.5, 0.0, 0.125, -0.125, 0.25]\n"
     ]
    }
   ],
   "source": [
    "# Calculate transportation cost by piece\n",
    "loc = ['Seattle','Denver','St. Louis','Atlanta','Philadelphia']\n",
    "\n",
    "trans_cost = [[2.00, 2.50, 3.50, 4.00, 5.00, 5.50],\n",
    "              [2.50, 2.50, 2.50, 3.00, 4.00, 4.50],\n",
    "              [3.50, 3.50, 2.50, 2.50, 3.00, 3.50],\n",
    "              [4.00, 4.00, 3.00, 2.50, 3.00, 2.50],\n",
    "              [4.50, 5.00, 3.00, 3.50, 2.50, 4.00]]\n",
    "\n",
    "net_trans_cost = []\n",
    "for i in range(5):\n",
    "    net_trans_cost.append([(val-3)/4 for val in trans_cost[i]])\n",
    "\n",
    "\n",
    "print(\"Net transportation cost matrix is:\")\n",
    "for i in range(5):\n",
    "    print(f\"{loc[i]}: {net_trans_cost[i]}\")"
   ]
  },
  {
   "cell_type": "markdown",
   "id": "4175bb5e",
   "metadata": {},
   "source": [
    "#### 2. Setup decision variables"
   ]
  },
  {
   "cell_type": "code",
   "execution_count": 5,
   "id": "78a7fe53",
   "metadata": {},
   "outputs": [
    {
     "name": "stdout",
     "output_type": "stream",
     "text": [
      "Allocation Matrix:\n",
      "[[X_11 X_12 X_13 X_14 X_15 X_16]\n",
      " [X_21 X_22 X_23 X_24 X_25 X_26]\n",
      " [X_31 X_32 X_33 X_34 X_35 X_36]\n",
      " [X_41 X_42 X_43 X_44 X_45 X_46]\n",
      " [X_51 X_52 X_53 X_54 X_55 X_56]]\n"
     ]
    }
   ],
   "source": [
    "# X_ij denotes shipping quantity from location i to market j\n",
    "n_loc = 5\n",
    "n_market = 6\n",
    "\n",
    "variable_names = [str(i)+str(j) for j in range(1, n_market+1) for i in range(1, n_loc+1)]\n",
    "variable_names.sort()\n",
    "\n",
    "X_variables = LpVariable.matrix(\"X\", variable_names, lowBound= 0)\n",
    "DV_allocation = np.array(X_variables).reshape(5,6)\n",
    "print(\"Allocation Matrix:\")\n",
    "print(DV_allocation)"
   ]
  },
  {
   "cell_type": "code",
   "execution_count": 6,
   "id": "a5e2d367",
   "metadata": {},
   "outputs": [
    {
     "name": "stdout",
     "output_type": "stream",
     "text": [
      "Openess Matrix:\n",
      "[[Y_11 Y_12]\n",
      " [Y_21 Y_22]\n",
      " [Y_31 Y_32]\n",
      " [Y_41 Y_42]\n",
      " [Y_51 Y_52]]\n"
     ]
    }
   ],
   "source": [
    "# Y_ij denotes whether a small store (j=1) or a large store (j=2) open at location i\n",
    "variable_names = [str(i)+str(j) for j in [1,2] for i in range(1, n_loc+1)]\n",
    "variable_names.sort()\n",
    "\n",
    "Y_variables = LpVariable.matrix(\"Y\", variable_names, cat = \"Integer\", lowBound= 0)\n",
    "DV_openess = np.array(Y_variables).reshape(5,2)\n",
    "print(\"Openess Matrix:\")\n",
    "print(DV_openess)"
   ]
  },
  {
   "cell_type": "markdown",
   "id": "eb4964b8",
   "metadata": {},
   "source": [
    "#### 3. Objective function"
   ]
  },
  {
   "cell_type": "code",
   "execution_count": 7,
   "id": "fcb3e44c",
   "metadata": {},
   "outputs": [
    {
     "data": {
      "text/plain": [
       "775*Y_11 + 975*Y_12 + 725*Y_21 + 895*Y_22 + 695*Y_31 + 850*Y_32 + 695*Y_41 + 850*Y_42 + 715*Y_51 + 875*Y_52 + 0"
      ]
     },
     "execution_count": 7,
     "metadata": {},
     "output_type": "execute_result"
    }
   ],
   "source": [
    "# fixed cost: facility fix cost + inventory fix cost\n",
    "fix_cost = [[300+475,500+475],\n",
    "            [250+475,420+475],\n",
    "            [220+475,375+475],\n",
    "            [220+475,375+475],\n",
    "            [240+475,400+475]]\n",
    "\n",
    "lpSum(fix_cost*DV_openess)"
   ]
  },
  {
   "cell_type": "code",
   "execution_count": 8,
   "id": "bb015870",
   "metadata": {},
   "outputs": [
    {
     "data": {
      "text/plain": [
       "0.365*X_11 + 0.365*X_12 + 0.365*X_13 + 0.365*X_14 + 0.365*X_15 + 0.365*X_16 + 0.365*X_21 + 0.365*X_22 + 0.365*X_23 + 0.365*X_24 + 0.365*X_25 + 0.365*X_26 + 0.365*X_31 + 0.365*X_32 + 0.365*X_33 + 0.365*X_34 + 0.365*X_35 + 0.365*X_36 + 0.365*X_41 + 0.365*X_42 + 0.365*X_43 + 0.365*X_44 + 0.365*X_45 + 0.365*X_46 + 0.365*X_51 + 0.365*X_52 + 0.365*X_53 + 0.365*X_54 + 0.365*X_55 + 0.365*X_56 + 0.0"
      ]
     },
     "execution_count": 8,
     "metadata": {},
     "output_type": "execute_result"
    }
   ],
   "source": [
    "# variable cost: facility varaible cost + inventory varaible cost\n",
    "lpSum((0.2+0.165)*DV_allocation)"
   ]
  },
  {
   "cell_type": "code",
   "execution_count": 9,
   "id": "ee351e84",
   "metadata": {},
   "outputs": [
    {
     "name": "stdout",
     "output_type": "stream",
     "text": [
      "-0.25*X_11 - 0.125*X_12 + 0.125*X_13 + 0.25*X_14 + 0.5*X_15 + 0.625*X_16 - 0.125*X_21 - 0.125*X_22 - 0.125*X_23 + 0.25*X_25 + 0.375*X_26 + 0.125*X_31 + 0.125*X_32 - 0.125*X_33 - 0.125*X_34 + 0.125*X_36 + 0.25*X_41 + 0.25*X_42 - 0.125*X_44 - 0.125*X_46 + 0.375*X_51 + 0.5*X_52 + 0.125*X_54 - 0.125*X_55 + 0.25*X_56\n"
     ]
    }
   ],
   "source": [
    "# transportation cost\n",
    "print(lpSum(DV_allocation*net_trans_cost))"
   ]
  },
  {
   "cell_type": "code",
   "execution_count": 10,
   "id": "cc27ed9d",
   "metadata": {},
   "outputs": [],
   "source": [
    "model = LpProblem(name=\"sportstuff-problem\", sense=LpMinimize)\n",
    "model += lpSum(fix_cost*DV_openess) + lpSum((0.2+0.165)*DV_allocation) + lpSum(DV_allocation*net_trans_cost)"
   ]
  },
  {
   "cell_type": "code",
   "execution_count": 11,
   "id": "397499f0",
   "metadata": {},
   "outputs": [
    {
     "data": {
      "text/plain": [
       "0.11499999999999999*X_11 + 0.24*X_12 + 0.49*X_13 + 0.615*X_14 + 0.865*X_15 + 0.99*X_16 + 0.24*X_21 + 0.24*X_22 + 0.24*X_23 + 0.365*X_24 + 0.615*X_25 + 0.74*X_26 + 0.49*X_31 + 0.49*X_32 + 0.24*X_33 + 0.24*X_34 + 0.365*X_35 + 0.49*X_36 + 0.615*X_41 + 0.615*X_42 + 0.365*X_43 + 0.24*X_44 + 0.365*X_45 + 0.24*X_46 + 0.74*X_51 + 0.865*X_52 + 0.365*X_53 + 0.49*X_54 + 0.24*X_55 + 0.615*X_56 + 775*Y_11 + 975*Y_12 + 725*Y_21 + 895*Y_22 + 695*Y_31 + 850*Y_32 + 695*Y_41 + 850*Y_42 + 715*Y_51 + 875*Y_52 + 0.0"
      ]
     },
     "execution_count": 11,
     "metadata": {},
     "output_type": "execute_result"
    }
   ],
   "source": [
    "model.objective"
   ]
  },
  {
   "cell_type": "markdown",
   "id": "8b9aa917",
   "metadata": {},
   "source": [
    "#### 4. Add constraints"
   ]
  },
  {
   "cell_type": "code",
   "execution_count": 12,
   "id": "43118cca",
   "metadata": {},
   "outputs": [
    {
     "name": "stdout",
     "output_type": "stream",
     "text": [
      "Y_11 + Y_12 <= 1\n",
      "Y_21 + Y_22 <= 1\n",
      "Y_31 + Y_32 <= 1\n",
      "Y_41 + Y_42 <= 1\n",
      "Y_51 + Y_52 <= 1\n"
     ]
    }
   ],
   "source": [
    "# Openess constraint\n",
    "for i in range(n_loc):\n",
    "    print(lpSum(DV_openess[i][j] for j in range(2)) <= 1)\n",
    "    model += lpSum(DV_openess[i][j] for j in range(2)) <= 1, \"Openess const\" + str(i)"
   ]
  },
  {
   "cell_type": "code",
   "execution_count": 13,
   "id": "3011d6a9",
   "metadata": {},
   "outputs": [
    {
     "name": "stdout",
     "output_type": "stream",
     "text": [
      "X_11 + X_21 + X_31 + X_41 + X_51 >= 576.0\n",
      "X_12 + X_22 + X_32 + X_42 + X_52 >= 360.0\n",
      "X_13 + X_23 + X_33 + X_43 + X_53 >= 288.0\n",
      "X_14 + X_24 + X_34 + X_44 + X_54 >= 396.0\n",
      "X_15 + X_25 + X_35 + X_45 + X_55 >= 630.0\n",
      "X_16 + X_26 + X_36 + X_46 + X_56 >= 315.0\n"
     ]
    }
   ],
   "source": [
    "# Demand constraint\n",
    "for j in range(n_market):\n",
    "    print(lpSum(DV_allocation[i][j] for i in range(n_loc)) >= demand[1][j])\n",
    "    model += lpSum(DV_allocation[i][j] for i in range(n_loc)) >= demand[1][j], \"Demand const\" + str(j)"
   ]
  },
  {
   "cell_type": "code",
   "execution_count": 14,
   "id": "ab341d55",
   "metadata": {},
   "outputs": [
    {
     "name": "stdout",
     "output_type": "stream",
     "text": [
      "X_11 + X_12 + X_13 + X_14 + X_15 + X_16 - 2000*Y_11 - 4000*Y_12 <= 0\n",
      "X_21 + X_22 + X_23 + X_24 + X_25 + X_26 - 2000*Y_21 - 4000*Y_22 <= 0\n",
      "X_31 + X_32 + X_33 + X_34 + X_35 + X_36 - 2000*Y_31 - 4000*Y_32 <= 0\n",
      "X_41 + X_42 + X_43 + X_44 + X_45 + X_46 - 2000*Y_41 - 4000*Y_42 <= 0\n",
      "X_51 + X_52 + X_53 + X_54 + X_55 + X_56 - 2000*Y_51 - 4000*Y_52 <= 0\n"
     ]
    }
   ],
   "source": [
    "# Capacity constraint\n",
    "for i in range(n_loc):\n",
    "    print(lpSum(DV_allocation[i][j] for j in range(n_market)) <= 2000*DV_openess[i][0]+4000*DV_openess[i][1])\n",
    "    model += lpSum(DV_allocation[i][j] for j in range(n_market)) <= 2000*DV_openess[i][0]+4000*DV_openess[i][1], \"Capacity const\" + str(i)"
   ]
  },
  {
   "cell_type": "code",
   "execution_count": 15,
   "id": "86aa256f",
   "metadata": {},
   "outputs": [
    {
     "data": {
      "text/plain": [
       "OrderedDict([('Openess_const0', 1*Y_11 + 1*Y_12 + -1 <= 0),\n",
       "             ('Openess_const1', 1*Y_21 + 1*Y_22 + -1 <= 0),\n",
       "             ('Openess_const2', 1*Y_31 + 1*Y_32 + -1 <= 0),\n",
       "             ('Openess_const3', 1*Y_41 + 1*Y_42 + -1 <= 0),\n",
       "             ('Openess_const4', 1*Y_51 + 1*Y_52 + -1 <= 0),\n",
       "             ('Demand_const0',\n",
       "              1*X_11 + 1*X_21 + 1*X_31 + 1*X_41 + 1*X_51 + -576.0 >= 0),\n",
       "             ('Demand_const1',\n",
       "              1*X_12 + 1*X_22 + 1*X_32 + 1*X_42 + 1*X_52 + -360.0 >= 0),\n",
       "             ('Demand_const2',\n",
       "              1*X_13 + 1*X_23 + 1*X_33 + 1*X_43 + 1*X_53 + -288.0 >= 0),\n",
       "             ('Demand_const3',\n",
       "              1*X_14 + 1*X_24 + 1*X_34 + 1*X_44 + 1*X_54 + -396.0 >= 0),\n",
       "             ('Demand_const4',\n",
       "              1*X_15 + 1*X_25 + 1*X_35 + 1*X_45 + 1*X_55 + -630.0 >= 0),\n",
       "             ('Demand_const5',\n",
       "              1*X_16 + 1*X_26 + 1*X_36 + 1*X_46 + 1*X_56 + -315.0 >= 0),\n",
       "             ('Capacity_const0',\n",
       "              1*X_11 + 1*X_12 + 1*X_13 + 1*X_14 + 1*X_15 + 1*X_16 + -2000*Y_11 + -4000*Y_12 + 0 <= 0),\n",
       "             ('Capacity_const1',\n",
       "              1*X_21 + 1*X_22 + 1*X_23 + 1*X_24 + 1*X_25 + 1*X_26 + -2000*Y_21 + -4000*Y_22 + 0 <= 0),\n",
       "             ('Capacity_const2',\n",
       "              1*X_31 + 1*X_32 + 1*X_33 + 1*X_34 + 1*X_35 + 1*X_36 + -2000*Y_31 + -4000*Y_32 + 0 <= 0),\n",
       "             ('Capacity_const3',\n",
       "              1*X_41 + 1*X_42 + 1*X_43 + 1*X_44 + 1*X_45 + 1*X_46 + -2000*Y_41 + -4000*Y_42 + 0 <= 0),\n",
       "             ('Capacity_const4',\n",
       "              1*X_51 + 1*X_52 + 1*X_53 + 1*X_54 + 1*X_55 + 1*X_56 + -2000*Y_51 + -4000*Y_52 + 0 <= 0)])"
      ]
     },
     "execution_count": 15,
     "metadata": {},
     "output_type": "execute_result"
    }
   ],
   "source": [
    "model.constraints"
   ]
  },
  {
   "cell_type": "markdown",
   "id": "dcdaf4ba",
   "metadata": {},
   "source": [
    "#### 5. Solve the model"
   ]
  },
  {
   "cell_type": "code",
   "execution_count": 16,
   "id": "dd9fea6e",
   "metadata": {},
   "outputs": [
    {
     "data": {
      "text/plain": [
       "1"
      ]
     },
     "execution_count": 16,
     "metadata": {},
     "output_type": "execute_result"
    }
   ],
   "source": [
    "model.solve(solver)"
   ]
  },
  {
   "cell_type": "code",
   "execution_count": 17,
   "id": "14b7eeb3",
   "metadata": {},
   "outputs": [
    {
     "name": "stdout",
     "output_type": "stream",
     "text": [
      "status: 1, Optimal\n",
      "Minimal cost for 2008: 1857100$.\n"
     ]
    }
   ],
   "source": [
    "print(f\"status: {model.status}, {LpStatus[model.status]}\")\n",
    "print(f\"Minimal cost for 2008: {round(model.objective.value()*1000)}$.\")"
   ]
  },
  {
   "cell_type": "code",
   "execution_count": 18,
   "id": "edba69b5",
   "metadata": {},
   "outputs": [
    {
     "name": "stdout",
     "output_type": "stream",
     "text": [
      "X_11: 0.0\n",
      "X_12: 0.0\n",
      "X_13: 0.0\n",
      "X_14: 0.0\n",
      "X_15: 0.0\n",
      "X_16: 0.0\n",
      "X_21: 0.0\n",
      "X_22: 0.0\n",
      "X_23: 0.0\n",
      "X_24: 0.0\n",
      "X_25: 0.0\n",
      "X_26: 0.0\n",
      "X_31: 576.0\n",
      "X_32: 360.0\n",
      "X_33: 288.0\n",
      "X_34: 396.0\n",
      "X_35: 630.0\n",
      "X_36: 315.0\n",
      "X_41: 0.0\n",
      "X_42: 0.0\n",
      "X_43: 0.0\n",
      "X_44: 0.0\n",
      "X_45: 0.0\n",
      "X_46: 0.0\n",
      "X_51: 0.0\n",
      "X_52: 0.0\n",
      "X_53: 0.0\n",
      "X_54: 0.0\n",
      "X_55: 0.0\n",
      "X_56: 0.0\n",
      "Y_11: 0\n",
      "Y_12: 0\n",
      "Y_21: 0\n",
      "Y_22: 0\n",
      "Y_31: 0\n",
      "Y_32: 1\n",
      "Y_41: 0\n",
      "Y_42: 0\n",
      "Y_51: 0\n",
      "Y_52: 0\n"
     ]
    }
   ],
   "source": [
    "for var in model.variables():\n",
    "     print(f\"{var.name}: {var.value()}\")"
   ]
  },
  {
   "cell_type": "markdown",
   "id": "2b4a96f5",
   "metadata": {},
   "source": [
    "#### 6. How to better present the result?"
   ]
  },
  {
   "cell_type": "code",
   "execution_count": 19,
   "id": "4aa09af3",
   "metadata": {},
   "outputs": [
    {
     "name": "stdout",
     "output_type": "stream",
     "text": [
      "St. Louis opens large store.\n"
     ]
    }
   ],
   "source": [
    "for var in model.variables():\n",
    "    if var.name[0] == \"Y\":\n",
    "        loc_index = int(var.name[2])-1\n",
    "        \n",
    "        if round(var.value()) == 0: \n",
    "            continue\n",
    "            \n",
    "        if int(var.name[3]) == 1:\n",
    "            size = \"small\"\n",
    "        else:\n",
    "            size = \"large\"\n",
    "    \n",
    "        print(f\"{loc[loc_index]} opens {size} store.\")"
   ]
  },
  {
   "cell_type": "code",
   "execution_count": 20,
   "id": "83d60b2c",
   "metadata": {},
   "outputs": [
    {
     "name": "stdout",
     "output_type": "stream",
     "text": [
      "St. Louis delivers 576 to market 1\n",
      "St. Louis delivers 360 to market 2\n",
      "St. Louis delivers 288 to market 3\n",
      "St. Louis delivers 396 to market 4\n",
      "St. Louis delivers 630 to market 5\n",
      "St. Louis delivers 315 to market 6\n"
     ]
    }
   ],
   "source": [
    "for var in model.variables():\n",
    "    if var.name[0] == \"X\":\n",
    "        loc_index = int(var.name[2])-1\n",
    "        \n",
    "        if round(var.value()) == 0:\n",
    "            continue\n",
    "            \n",
    "        place = var.name[3]\n",
    "        print(f\"{loc[loc_index]} delivers {round(var.value())} to market {place}\")"
   ]
  },
  {
   "cell_type": "markdown",
   "id": "0cc5d587",
   "metadata": {},
   "source": [
    "### Exercise:\n",
    "\n",
    "Use the model to answer following questions:\n",
    "1. What are optimal configurations for year 2009 and 2010?\n",
    "* 2009 minimal cost \\$2,810,030. \n",
    "* 2010 minimal cost \\$4,423,054.\n",
    "2. What are optimal configuration if transportation costs are doubled?\n",
    "* 2008 minimal cost \\$3,774,225.\n",
    "* 2009 minimal cost \\$5,772,605. \n",
    "* 2010 minimal cost \\$9,505,689."
   ]
  },
  {
   "cell_type": "code",
   "execution_count": null,
   "id": "c1e7440e",
   "metadata": {},
   "outputs": [],
   "source": []
  }
 ],
 "metadata": {
  "kernelspec": {
   "display_name": "env_tutorial",
   "language": "python",
   "name": "env_tutorial"
  },
  "language_info": {
   "codemirror_mode": {
    "name": "ipython",
    "version": 3
   },
   "file_extension": ".py",
   "mimetype": "text/x-python",
   "name": "python",
   "nbconvert_exporter": "python",
   "pygments_lexer": "ipython3",
   "version": "3.10.4"
  }
 },
 "nbformat": 4,
 "nbformat_minor": 5
}
