{
 "cells": [
  {
   "cell_type": "markdown",
   "id": "71df77d5",
   "metadata": {},
   "source": [
    "## T2 - A budget problem"
   ]
  },
  {
   "cell_type": "markdown",
   "id": "670137e5",
   "metadata": {},
   "source": [
    "PuLP is an LP modeler solving linear programming problems. You need to install PuLP before using. If you are using Anaconda/Miniconda, open the Conda Terminal and install PuLP:\n",
    "\n",
    "    (base) C:\\Users\\YourName>conda activate env_tutorial\n",
    "    (env_tutorial) C:\\Users\\YourName>conda install -c conda-forge pulp"
   ]
  },
  {
   "cell_type": "code",
   "execution_count": 1,
   "id": "b61f61ef",
   "metadata": {},
   "outputs": [],
   "source": [
    "import numpy as np\n",
    "import pandas as pd\n",
    "from pulp import *"
   ]
  },
  {
   "cell_type": "markdown",
   "id": "e8d16af2",
   "metadata": {},
   "source": [
    "### Solve for the budget problem\n",
    "\n",
    "To solve for a LP problem, the basic recipe is\n",
    "1. Create the model\n",
    "2. Initiate decision variables\n",
    "3. Add constraints\n",
    "4. Add objective function\n",
    "5. Specify solver\n",
    "6. Check the result"
   ]
  },
  {
   "cell_type": "code",
   "execution_count": 2,
   "id": "cd726b4d",
   "metadata": {},
   "outputs": [],
   "source": [
    "# Create the model\n",
    "model = LpProblem(name=\"budget-problem\", sense=LpMinimize)"
   ]
  },
  {
   "cell_type": "code",
   "execution_count": 3,
   "id": "c625cb1e",
   "metadata": {},
   "outputs": [
    {
     "name": "stdout",
     "output_type": "stream",
     "text": [
      "Decision Variable: \n",
      "[x1, x2, x3, x4]\n"
     ]
    }
   ],
   "source": [
    "# Initialize the decision variables\n",
    "x1 = LpVariable(name=\"x1\", lowBound=0)\n",
    "x2 = LpVariable(name=\"x2\", lowBound=0)\n",
    "x3 = LpVariable(name=\"x3\", lowBound=0)\n",
    "x4 = LpVariable(name=\"x4\", lowBound=0)\n",
    "\n",
    "print(\"Decision Variable: \")\n",
    "print([x1,x2,x3,x4])"
   ]
  },
  {
   "cell_type": "code",
   "execution_count": 4,
   "id": "3d5a95f2",
   "metadata": {},
   "outputs": [],
   "source": [
    "# Add the constraints to the model\n",
    "model += (400*x1 + 200*x2 + 150*x3 + 500*x4 >= 500, \"calories\")\n",
    "model += (3*x1 + 2*x2 + 0*x3 + 0*x4 >= 6, \"chocolate\")\n",
    "model += (2*x1 + 2*x2 + 4*x3 + 4*x4 >= 10, \"sugar\")\n",
    "model += (2*x1 + 4*x2 + 1*x3 + 5*x4 >= 8, \"fat\")"
   ]
  },
  {
   "cell_type": "code",
   "execution_count": 5,
   "id": "cc5f4821",
   "metadata": {},
   "outputs": [],
   "source": [
    "# Add the objective function to the model\n",
    "c1 = 5.5\n",
    "c2 = 10.2\n",
    "c3 = 5.3\n",
    "c4 = 10.8\n",
    "obj_func = c1*x1 + c2*x2 + c3*x3 + c4*x4\n",
    "model += obj_func"
   ]
  },
  {
   "cell_type": "code",
   "execution_count": 6,
   "id": "6b507a86",
   "metadata": {},
   "outputs": [
    {
     "data": {
      "text/plain": [
       "budget-problem:\n",
       "MINIMIZE\n",
       "5.5*x1 + 10.2*x2 + 5.3*x3 + 10.8*x4 + 0.0\n",
       "SUBJECT TO\n",
       "calories: 400 x1 + 200 x2 + 150 x3 + 500 x4 >= 500\n",
       "\n",
       "chocolate: 3 x1 + 2 x2 >= 6\n",
       "\n",
       "sugar: 2 x1 + 2 x2 + 4 x3 + 4 x4 >= 10\n",
       "\n",
       "fat: 2 x1 + 4 x2 + x3 + 5 x4 >= 8\n",
       "\n",
       "VARIABLES\n",
       "x1 Continuous\n",
       "x2 Continuous\n",
       "x3 Continuous\n",
       "x4 Continuous"
      ]
     },
     "execution_count": 6,
     "metadata": {},
     "output_type": "execute_result"
    }
   ],
   "source": [
    "# Check the model\n",
    "model"
   ]
  },
  {
   "cell_type": "code",
   "execution_count": 7,
   "id": "f3509ad6",
   "metadata": {},
   "outputs": [],
   "source": [
    "# Specify the solver to be GLPK (optional)\n",
    "path_to = r'C:\\Users\\jzhangfv\\Miniconda3\\envs\\env_tutorial\\Library\\bin\\glpsol.exe'\n",
    "solver = GLPK_CMD(path=path_to)"
   ]
  },
  {
   "cell_type": "code",
   "execution_count": 8,
   "id": "7767fec7",
   "metadata": {},
   "outputs": [
    {
     "data": {
      "text/plain": [
       "1"
      ]
     },
     "execution_count": 8,
     "metadata": {},
     "output_type": "execute_result"
    }
   ],
   "source": [
    "# Solve the problem\n",
    "status = model.solve(solver)\n",
    "\n",
    "# status meaning: {0: 'Not Solved', 1: 'Optimal', -1: 'Infeasible', -2: 'Unbounded', -3: 'Undefined'}\n",
    "status"
   ]
  },
  {
   "cell_type": "code",
   "execution_count": 9,
   "id": "89320159",
   "metadata": {},
   "outputs": [
    {
     "name": "stdout",
     "output_type": "stream",
     "text": [
      "status: 1, Optimal\n",
      "objective: 22.3875\n",
      "x1: 2.0\n",
      "x2: 0.0\n",
      "x3: 0.875\n",
      "x4: 0.625\n"
     ]
    }
   ],
   "source": [
    "# Check results\n",
    "print(f\"status: {model.status}, {LpStatus[model.status]}\")\n",
    "print(f\"objective: {model.objective.value()}\")\n",
    "for var in model.variables():\n",
    "     print(f\"{var.name}: {var.value()}\")"
   ]
  },
  {
   "cell_type": "markdown",
   "id": "e306950c",
   "metadata": {},
   "source": [
    "### An alternative: specify parameters as matrices\n"
   ]
  },
  {
   "cell_type": "code",
   "execution_count": 10,
   "id": "7acf18cb",
   "metadata": {},
   "outputs": [
    {
     "name": "stdout",
     "output_type": "stream",
     "text": [
      "[X_1, X_2, X_3, X_4]\n"
     ]
    }
   ],
   "source": [
    "# An alternative way to specify decision variables:\n",
    "n_dv = 4\n",
    "variable_names = [str(i) for i in range(1, n_dv+1)]\n",
    "DV_variables = LpVariable.matrix(\"X\", variable_names, lowBound=0)\n",
    "print(DV_variables)"
   ]
  },
  {
   "cell_type": "code",
   "execution_count": 11,
   "id": "4190e631",
   "metadata": {},
   "outputs": [],
   "source": [
    "# RHS matrix\n",
    "rhs_matrix = np.array([[400, 200, 150, 500],\n",
    "                       [3, 2, 0, 0],\n",
    "                       [2, 2, 4, 4],\n",
    "                       [2, 4, 1, 5]])\n",
    "\n",
    "# LHS Matrix\n",
    "lhs_matrix = np.array([500, 6, 10, 8])\n",
    "\n",
    "# Cost Matrix\n",
    "cost_matrix = np.array([5.5, 10.2, 5.3, 10.8])"
   ]
  },
  {
   "cell_type": "code",
   "execution_count": 12,
   "id": "e9d624a9",
   "metadata": {},
   "outputs": [
    {
     "name": "stdout",
     "output_type": "stream",
     "text": [
      "400*X_1 + 200*X_2 + 150*X_3 + 500*X_4 >= 500\n",
      "3*X_1 + 2*X_2 >= 6\n",
      "2*X_1 + 2*X_2 + 4*X_3 + 4*X_4 >= 10\n",
      "2*X_1 + 4*X_2 + X_3 + 5*X_4 >= 8\n"
     ]
    }
   ],
   "source": [
    "# Adding constraint via loop\n",
    "model_alt = LpProblem(name=\"budget-problem-alt\", sense=LpMinimize)\n",
    "n_const = 4\n",
    "for i in range(n_const):\n",
    "    print(lpSum(rhs_matrix[i][j]*DV_variables[j] for j in range(n_dv)) >= lhs_matrix[i])\n",
    "    model_alt += lpSum(rhs_matrix[i][j]*DV_variables[j] for j in range(n_dv)) >= lhs_matrix[i] , \"Constraints \" + str(i)"
   ]
  },
  {
   "cell_type": "code",
   "execution_count": 13,
   "id": "b02961cd",
   "metadata": {},
   "outputs": [
    {
     "name": "stdout",
     "output_type": "stream",
     "text": [
      "5.5*X_1 + 10.2*X_2 + 5.3*X_3 + 10.8*X_4\n"
     ]
    }
   ],
   "source": [
    "# Add objective function\n",
    "print(lpSum(DV_variables*cost_matrix))\n",
    "model_alt += lpSum(DV_variables*cost_matrix)"
   ]
  },
  {
   "cell_type": "code",
   "execution_count": 14,
   "id": "3497a632",
   "metadata": {},
   "outputs": [
    {
     "data": {
      "text/plain": [
       "budget-problem-alt:\n",
       "MINIMIZE\n",
       "5.5*X_1 + 10.2*X_2 + 5.3*X_3 + 10.8*X_4 + 0.0\n",
       "SUBJECT TO\n",
       "Constraints_0: 400 X_1 + 200 X_2 + 150 X_3 + 500 X_4 >= 500\n",
       "\n",
       "Constraints_1: 3 X_1 + 2 X_2 >= 6\n",
       "\n",
       "Constraints_2: 2 X_1 + 2 X_2 + 4 X_3 + 4 X_4 >= 10\n",
       "\n",
       "Constraints_3: 2 X_1 + 4 X_2 + X_3 + 5 X_4 >= 8\n",
       "\n",
       "VARIABLES\n",
       "X_1 Continuous\n",
       "X_2 Continuous\n",
       "X_3 Continuous\n",
       "X_4 Continuous"
      ]
     },
     "execution_count": 14,
     "metadata": {},
     "output_type": "execute_result"
    }
   ],
   "source": [
    "# Check model formulation\n",
    "model_alt"
   ]
  },
  {
   "cell_type": "code",
   "execution_count": 15,
   "id": "72a37d2c",
   "metadata": {},
   "outputs": [
    {
     "name": "stdout",
     "output_type": "stream",
     "text": [
      "status: 1, Optimal\n",
      "objective: 22.3875\n",
      "X_1: 2.0\n",
      "X_2: 0.0\n",
      "X_3: 0.875\n",
      "X_4: 0.625\n"
     ]
    }
   ],
   "source": [
    "# Solve the problem\n",
    "model_alt.solve(solver)\n",
    "\n",
    "# Check results\n",
    "print(f\"status: {model_alt.status}, {LpStatus[model_alt.status]}\")\n",
    "print(f\"objective: {model_alt.objective.value()}\")\n",
    "for var in model_alt.variables():\n",
    "     print(f\"{var.name}: {var.value()}\")"
   ]
  },
  {
   "cell_type": "markdown",
   "id": "757af1eb",
   "metadata": {},
   "source": [
    "### What if $X_i$s are integer number?"
   ]
  },
  {
   "cell_type": "code",
   "execution_count": 16,
   "id": "aca529a7",
   "metadata": {},
   "outputs": [
    {
     "name": "stdout",
     "output_type": "stream",
     "text": [
      "[X_1, X_2, X_3, X_4]\n"
     ]
    }
   ],
   "source": [
    "# Specify variables' category as \"Integer\"\n",
    "DV_variables = LpVariable.matrix(\"X\", variable_names, cat = \"Integer\", lowBound=0)\n",
    "print(DV_variables)"
   ]
  },
  {
   "cell_type": "code",
   "execution_count": 17,
   "id": "d17fbb06",
   "metadata": {},
   "outputs": [
    {
     "name": "stdout",
     "output_type": "stream",
     "text": [
      "400*X_1 + 200*X_2 + 150*X_3 + 500*X_4 >= 500\n",
      "3*X_1 + 2*X_2 >= 6\n",
      "2*X_1 + 2*X_2 + 4*X_3 + 4*X_4 >= 10\n",
      "2*X_1 + 4*X_2 + X_3 + 5*X_4 >= 8\n"
     ]
    }
   ],
   "source": [
    "# Add constraints\n",
    "model_int = LpProblem(name=\"budget-problem-int\", sense=LpMinimize)\n",
    "\n",
    "for i in range(n_const):\n",
    "    print(lpSum(rhs_matrix[i][j]*DV_variables[j] for j in range(n_dv)) >= lhs_matrix[i])\n",
    "    model_int += lpSum(rhs_matrix[i][j]*DV_variables[j] for j in range(n_dv)) >= lhs_matrix[i] , \"Constraints \" + str(i)"
   ]
  },
  {
   "cell_type": "code",
   "execution_count": 18,
   "id": "aa5744d9",
   "metadata": {},
   "outputs": [
    {
     "data": {
      "text/plain": [
       "budget-problem-int:\n",
       "MINIMIZE\n",
       "5.5*X_1 + 10.2*X_2 + 5.3*X_3 + 10.8*X_4 + 0.0\n",
       "SUBJECT TO\n",
       "Constraints_0: 400 X_1 + 200 X_2 + 150 X_3 + 500 X_4 >= 500\n",
       "\n",
       "Constraints_1: 3 X_1 + 2 X_2 >= 6\n",
       "\n",
       "Constraints_2: 2 X_1 + 2 X_2 + 4 X_3 + 4 X_4 >= 10\n",
       "\n",
       "Constraints_3: 2 X_1 + 4 X_2 + X_3 + 5 X_4 >= 8\n",
       "\n",
       "VARIABLES\n",
       "0 <= X_1 Integer\n",
       "0 <= X_2 Integer\n",
       "0 <= X_3 Integer\n",
       "0 <= X_4 Integer"
      ]
     },
     "execution_count": 18,
     "metadata": {},
     "output_type": "execute_result"
    }
   ],
   "source": [
    "# Add objective function\n",
    "model_int += lpSum(DV_variables*cost_matrix)\n",
    "model_int"
   ]
  },
  {
   "cell_type": "code",
   "execution_count": 19,
   "id": "f85ad9cc",
   "metadata": {},
   "outputs": [
    {
     "name": "stdout",
     "output_type": "stream",
     "text": [
      "status: 1, Optimal\n",
      "objective: 26.5\n",
      "X_1: 2\n",
      "X_2: 1\n",
      "X_3: 1\n",
      "X_4: 0\n"
     ]
    }
   ],
   "source": [
    "# Solve the problem\n",
    "model_int.solve(solver)\n",
    "\n",
    "# Check results\n",
    "print(f\"status: {model_int.status}, {LpStatus[model_int.status]}\")\n",
    "print(f\"objective: {model_int.objective.value()}\")\n",
    "for var in model_int.variables():\n",
    "     print(f\"{var.name}: {var.value()}\")"
   ]
  }
 ],
 "metadata": {
  "kernelspec": {
   "display_name": "env_tutorial",
   "language": "python",
   "name": "env_tutorial"
  },
  "language_info": {
   "codemirror_mode": {
    "name": "ipython",
    "version": 3
   },
   "file_extension": ".py",
   "mimetype": "text/x-python",
   "name": "python",
   "nbconvert_exporter": "python",
   "pygments_lexer": "ipython3",
   "version": "3.10.4"
  }
 },
 "nbformat": 4,
 "nbformat_minor": 5
}
