{
 "cells": [
  {
   "cell_type": "markdown",
   "metadata": {},
   "source": [
    "### T1: Intro to Python and Hotelling Model"
   ]
  },
  {
   "cell_type": "markdown",
   "metadata": {},
   "source": [
    "#### 1. Import Package\n",
    "\n",
    "A Python package is a toolkit containing wrapped-up tools(functions)."
   ]
  },
  {
   "cell_type": "code",
   "execution_count": 1,
   "metadata": {},
   "outputs": [
    {
     "data": {
      "text/plain": [
       "1.4142135623730951"
      ]
     },
     "execution_count": 1,
     "metadata": {},
     "output_type": "execute_result"
    }
   ],
   "source": [
    "# import ... as ...\n",
    "import math as m \n",
    "\n",
    "m.sqrt(2)"
   ]
  },
  {
   "cell_type": "code",
   "execution_count": 2,
   "metadata": {},
   "outputs": [
    {
     "ename": "NameError",
     "evalue": "name 'sqrt' is not defined",
     "output_type": "error",
     "traceback": [
      "\u001b[1;31m---------------------------------------------------------------------------\u001b[0m",
      "\u001b[1;31mNameError\u001b[0m                                 Traceback (most recent call last)",
      "Input \u001b[1;32mIn [2]\u001b[0m, in \u001b[0;36m<cell line: 1>\u001b[1;34m()\u001b[0m\n\u001b[1;32m----> 1\u001b[0m \u001b[43msqrt\u001b[49m(\u001b[38;5;241m2\u001b[39m)\n",
      "\u001b[1;31mNameError\u001b[0m: name 'sqrt' is not defined"
     ]
    }
   ],
   "source": [
    "sqrt(2)"
   ]
  },
  {
   "cell_type": "code",
   "execution_count": 3,
   "metadata": {},
   "outputs": [
    {
     "data": {
      "text/plain": [
       "1.4142135623730951"
      ]
     },
     "execution_count": 3,
     "metadata": {},
     "output_type": "execute_result"
    }
   ],
   "source": [
    "# from ... import ...\n",
    "from math import sqrt\n",
    "\n",
    "sqrt(2)"
   ]
  },
  {
   "cell_type": "markdown",
   "metadata": {},
   "source": [
    "#### 2. Define variables\n",
    "\n",
    "Variables should be defined before using."
   ]
  },
  {
   "cell_type": "code",
   "execution_count": 4,
   "metadata": {},
   "outputs": [
    {
     "name": "stdout",
     "output_type": "stream",
     "text": [
      "5\n",
      "John\n"
     ]
    }
   ],
   "source": [
    "# Variables have different types.\n",
    "x = 5 # An integer\n",
    "y = \"John\" # A string\n",
    "print(x)\n",
    "print(y)"
   ]
  },
  {
   "cell_type": "code",
   "execution_count": 5,
   "metadata": {},
   "outputs": [
    {
     "name": "stdout",
     "output_type": "stream",
     "text": [
      "4\n",
      "Sally\n"
     ]
    }
   ],
   "source": [
    "# Variables can be over-written\n",
    "x = 4       # x is of type int\n",
    "print(x)\n",
    "x = \"Sally\" # x is now of type str\n",
    "print(x)"
   ]
  },
  {
   "cell_type": "code",
   "execution_count": 6,
   "metadata": {},
   "outputs": [
    {
     "data": {
      "text/plain": [
       "(str, int, float)"
      ]
     },
     "execution_count": 6,
     "metadata": {},
     "output_type": "execute_result"
    }
   ],
   "source": [
    "# Be careful with the variable type.\n",
    "x = str(3)    # x will be '3'\n",
    "y = int(3)    # y will be 3\n",
    "z = float(3)  # z will be 3.0\n",
    "\n",
    "type(x), type(y), type(z)"
   ]
  },
  {
   "cell_type": "markdown",
   "metadata": {},
   "source": [
    "#### 3. Loop and If statement"
   ]
  },
  {
   "cell_type": "code",
   "execution_count": 7,
   "metadata": {},
   "outputs": [
    {
     "name": "stdout",
     "output_type": "stream",
     "text": [
      "1\n",
      "2\n",
      "3\n",
      "4\n",
      "5\n",
      "6\n",
      "7\n",
      "8\n",
      "9\n"
     ]
    }
   ],
   "source": [
    "# For loop to iterate\n",
    "import numpy as np\n",
    "for x in np.arange(1,10,1):\n",
    "    print(x)"
   ]
  },
  {
   "cell_type": "code",
   "execution_count": 8,
   "metadata": {},
   "outputs": [
    {
     "name": "stdout",
     "output_type": "stream",
     "text": [
      "The minima = 5 and the minimum = 0.\n"
     ]
    }
   ],
   "source": [
    "# If statement\n",
    "fx_min = 100000\n",
    "x_min = 1\n",
    "\n",
    "for x in np.arange(1,10,1):\n",
    "    fx = (x-5)**2\n",
    "    if fx <= fx_min:\n",
    "        fx_min=fx\n",
    "        x_min=x\n",
    "\n",
    "print('The minima = ' + str(x_min)+' and the minimum = '+ str(fx_min)+'.')"
   ]
  },
  {
   "cell_type": "markdown",
   "metadata": {},
   "source": [
    "#### 4. Hotelling Model*"
   ]
  },
  {
   "cell_type": "markdown",
   "metadata": {},
   "source": [
    "Problem definition: \n",
    "\n",
    "Two competing firms A and B sell a same product at a same price $p$. They are choosing locations in a line $[0,1]$ to maximize their revenue. \n",
    "\n",
    "Consumers are uniformly distributed in this line and they have a unit distance cost $t$. They will choose the closet firm for purchasing if their utility from purchase is non-negative: $R-p-tD(x) \\geq 0$ for a consumer located in $x$ and his distance to the closet firm at location $s$ is $D(x)=|x-s|$."
   ]
  },
  {
   "cell_type": "code",
   "execution_count": 9,
   "metadata": {},
   "outputs": [
    {
     "data": {
      "text/plain": [
       "(0.4, 0.2, 0.4)"
      ]
     },
     "execution_count": 9,
     "metadata": {},
     "output_type": "execute_result"
    }
   ],
   "source": [
    "# A numerical experiment\n",
    "R = 2\n",
    "p = 1\n",
    "t = 5\n",
    "\n",
    "pi_A_lst = []\n",
    "s_lst = np.arange(0,0.51,0.01)\n",
    "\n",
    "for s in np.arange(0,0.51,0.01):\n",
    "    pi_A = min((R-p)/t,s)*p + min((R-p)/t,1/2-s)*p # symmetric firms\n",
    "    pi_A_lst.append(pi_A)\n",
    "\n",
    "max(pi_A_lst), s_lst[np.argmax(pi_A_lst)], pi_A_lst[np.argmax(pi_A_lst)]"
   ]
  },
  {
   "cell_type": "code",
   "execution_count": 10,
   "metadata": {},
   "outputs": [
    {
     "data": {
      "text/plain": [
       "(0.5, 0.0, 0.5)"
      ]
     },
     "execution_count": 10,
     "metadata": {},
     "output_type": "execute_result"
    }
   ],
   "source": [
    "# A numerical experiment under no transportation cost\n",
    "R = 2\n",
    "p = 1\n",
    "t = 0.0001\n",
    "\n",
    "pi_A_lst = []\n",
    "s_lst = np.arange(0,0.51,0.01)\n",
    "\n",
    "for s in np.arange(0,0.51,0.01):\n",
    "    pi_A = min((R-p)/t,s)*p + min((R-p)/t,1/2-s)*p # symmetric firms\n",
    "    pi_A_lst.append(pi_A)\n",
    "\n",
    "max(pi_A_lst), s_lst[np.argmax(pi_A_lst)], pi_A_lst[np.argmax(pi_A_lst)]"
   ]
  },
  {
   "cell_type": "markdown",
   "metadata": {},
   "source": [
    "#### 5. Plotting in Python"
   ]
  },
  {
   "cell_type": "markdown",
   "metadata": {},
   "source": [
    "Numerical experiments with plots are good tools to better understand the problem and identify the flaws in the algorithm."
   ]
  },
  {
   "cell_type": "code",
   "execution_count": 11,
   "metadata": {},
   "outputs": [],
   "source": [
    "# matplotlib is the most commonly used plotting package in Python\n",
    "import matplotlib.pyplot as plt"
   ]
  },
  {
   "cell_type": "code",
   "execution_count": 12,
   "metadata": {},
   "outputs": [
    {
     "data": {
      "image/png": "[encoded data removed]",
      "text/plain": [
       "<Figure size 640x480 with 1 Axes>"
      ]
     },
     "metadata": {},
     "output_type": "display_data"
    }
   ],
   "source": [
    "# A numerical experiment with plot\n",
    "R = 2\n",
    "p = 1\n",
    "t = 5\n",
    "\n",
    "pi_A_lst = []\n",
    "s_lst = np.arange(0,0.51,0.01)\n",
    "\n",
    "for s in np.arange(0,0.51,0.01):\n",
    "    pi_A = min((R-p)/t,s)*p + min((R-p)/t,1/2-s)*p # symmetric firms\n",
    "    pi_A_lst.append(pi_A)\n",
    "\n",
    "\n",
    "plt.plot(s_lst, pi_A_lst)\n",
    "plt.xlabel('location $s$')\n",
    "plt.ylabel('revenue $\\Pi$')\n",
    "plt.title('Firm A\\'s revenue v.s. chosen location')\n",
    "plt.grid()\n",
    "plt.show()"
   ]
  }
 ],
 "metadata": {
  "kernelspec": {
   "display_name": "env_tutorial",
   "language": "python",
   "name": "env_tutorial"
  },
  "language_info": {
   "codemirror_mode": {
    "name": "ipython",
    "version": 3
   },
   "file_extension": ".py",
   "mimetype": "text/x-python",
   "name": "python",
   "nbconvert_exporter": "python",
   "pygments_lexer": "ipython3",
   "version": "3.10.4"
  },
  "vscode": {
   "interpreter": {
    "hash": "edd432b5ca1d8147b9188b8765a3b533f94ca3aea2d743fb9aae8635b8140e09"
   }
  }
 },
 "nbformat": 4,
 "nbformat_minor": 2
}
